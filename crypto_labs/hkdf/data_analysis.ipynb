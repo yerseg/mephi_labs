{
 "cells": [
  {
   "cell_type": "code",
   "execution_count": 1,
   "metadata": {
    "colab": {},
    "colab_type": "code",
    "id": "aCcINCDJqF4g"
   },
   "outputs": [],
   "source": [
    "import pandas as pd\n",
    "%matplotlib inline\n",
    "import matplotlib.pyplot as plt\n",
    "import pickle\n",
    "import json"
   ]
  },
  {
   "cell_type": "code",
   "execution_count": 2,
   "metadata": {
    "colab": {},
    "colab_type": "code",
    "id": "xpAk-rOAqF4p"
   },
   "outputs": [],
   "source": [
    "path_to_weather_json = \"files\\\\weather.json\""
   ]
  },
  {
   "cell_type": "code",
   "execution_count": 3,
   "metadata": {
    "colab": {},
    "colab_type": "code",
    "id": "uHMQW_gWqF4v"
   },
   "outputs": [],
   "source": [
    "with open(path_to_weather_json, 'r') as file:\n",
    "    weather = json.load(file)"
   ]
  },
  {
   "cell_type": "code",
   "execution_count": 4,
   "metadata": {
    "colab": {},
    "colab_type": "code",
    "id": "KY0VcemhqF40"
   },
   "outputs": [],
   "source": [
    "weather_hourly = weather['hourly']['data']"
   ]
  },
  {
   "cell_type": "code",
   "execution_count": 5,
   "metadata": {
    "colab": {},
    "colab_type": "code",
    "id": "tpc5l02rqF44",
    "outputId": "86f4dbd9-5dc7-4f74-c933-685af3e250a0"
   },
   "outputs": [
    {
     "data": {
      "text/html": [
       "<div>\n",
       "<style scoped>\n",
       "    .dataframe tbody tr th:only-of-type {\n",
       "        vertical-align: middle;\n",
       "    }\n",
       "\n",
       "    .dataframe tbody tr th {\n",
       "        vertical-align: top;\n",
       "    }\n",
       "\n",
       "    .dataframe thead th {\n",
       "        text-align: right;\n",
       "    }\n",
       "</style>\n",
       "<table border=\"1\" class=\"dataframe\">\n",
       "  <thead>\n",
       "    <tr style=\"text-align: right;\">\n",
       "      <th></th>\n",
       "      <th>apparentTemperature</th>\n",
       "      <th>cloudCover</th>\n",
       "      <th>dewPoint</th>\n",
       "      <th>humidity</th>\n",
       "      <th>icon</th>\n",
       "      <th>ozone</th>\n",
       "      <th>precipIntensity</th>\n",
       "      <th>precipProbability</th>\n",
       "      <th>precipType</th>\n",
       "      <th>pressure</th>\n",
       "      <th>summary</th>\n",
       "      <th>temperature</th>\n",
       "      <th>time</th>\n",
       "      <th>uvIndex</th>\n",
       "      <th>visibility</th>\n",
       "      <th>windBearing</th>\n",
       "      <th>windGust</th>\n",
       "      <th>windSpeed</th>\n",
       "    </tr>\n",
       "  </thead>\n",
       "  <tbody>\n",
       "    <tr>\n",
       "      <th>0</th>\n",
       "      <td>50.78</td>\n",
       "      <td>0.06</td>\n",
       "      <td>40.73</td>\n",
       "      <td>0.68</td>\n",
       "      <td>clear-night</td>\n",
       "      <td>339.7</td>\n",
       "      <td>0.0000</td>\n",
       "      <td>0.00</td>\n",
       "      <td>NaN</td>\n",
       "      <td>1018.6</td>\n",
       "      <td>Clear</td>\n",
       "      <td>50.78</td>\n",
       "      <td>1582095600</td>\n",
       "      <td>0</td>\n",
       "      <td>10</td>\n",
       "      <td>307</td>\n",
       "      <td>5.51</td>\n",
       "      <td>4.55</td>\n",
       "    </tr>\n",
       "    <tr>\n",
       "      <th>1</th>\n",
       "      <td>48.46</td>\n",
       "      <td>0.10</td>\n",
       "      <td>40.77</td>\n",
       "      <td>0.71</td>\n",
       "      <td>clear-night</td>\n",
       "      <td>339.0</td>\n",
       "      <td>0.0000</td>\n",
       "      <td>0.00</td>\n",
       "      <td>NaN</td>\n",
       "      <td>1018.7</td>\n",
       "      <td>Clear</td>\n",
       "      <td>49.93</td>\n",
       "      <td>1582099200</td>\n",
       "      <td>0</td>\n",
       "      <td>10</td>\n",
       "      <td>200</td>\n",
       "      <td>5.15</td>\n",
       "      <td>4.48</td>\n",
       "    </tr>\n",
       "    <tr>\n",
       "      <th>2</th>\n",
       "      <td>48.16</td>\n",
       "      <td>0.12</td>\n",
       "      <td>41.47</td>\n",
       "      <td>0.73</td>\n",
       "      <td>clear-night</td>\n",
       "      <td>338.0</td>\n",
       "      <td>0.0010</td>\n",
       "      <td>0.02</td>\n",
       "      <td>rain</td>\n",
       "      <td>1018.9</td>\n",
       "      <td>Clear</td>\n",
       "      <td>49.61</td>\n",
       "      <td>1582102800</td>\n",
       "      <td>0</td>\n",
       "      <td>10</td>\n",
       "      <td>238</td>\n",
       "      <td>5.69</td>\n",
       "      <td>4.36</td>\n",
       "    </tr>\n",
       "    <tr>\n",
       "      <th>3</th>\n",
       "      <td>47.61</td>\n",
       "      <td>0.14</td>\n",
       "      <td>42.03</td>\n",
       "      <td>0.76</td>\n",
       "      <td>clear-night</td>\n",
       "      <td>336.1</td>\n",
       "      <td>0.0003</td>\n",
       "      <td>0.01</td>\n",
       "      <td>rain</td>\n",
       "      <td>1019.0</td>\n",
       "      <td>Clear</td>\n",
       "      <td>49.13</td>\n",
       "      <td>1582106400</td>\n",
       "      <td>0</td>\n",
       "      <td>10</td>\n",
       "      <td>248</td>\n",
       "      <td>5.82</td>\n",
       "      <td>4.36</td>\n",
       "    </tr>\n",
       "    <tr>\n",
       "      <th>4</th>\n",
       "      <td>47.24</td>\n",
       "      <td>0.15</td>\n",
       "      <td>42.24</td>\n",
       "      <td>0.79</td>\n",
       "      <td>clear-night</td>\n",
       "      <td>333.7</td>\n",
       "      <td>0.0022</td>\n",
       "      <td>0.03</td>\n",
       "      <td>rain</td>\n",
       "      <td>1019.1</td>\n",
       "      <td>Clear</td>\n",
       "      <td>48.59</td>\n",
       "      <td>1582110000</td>\n",
       "      <td>0</td>\n",
       "      <td>10</td>\n",
       "      <td>250</td>\n",
       "      <td>5.45</td>\n",
       "      <td>4.00</td>\n",
       "    </tr>\n",
       "  </tbody>\n",
       "</table>\n",
       "</div>"
      ],
      "text/plain": [
       "   apparentTemperature  cloudCover  dewPoint  humidity         icon  ozone  \\\n",
       "0                50.78        0.06     40.73      0.68  clear-night  339.7   \n",
       "1                48.46        0.10     40.77      0.71  clear-night  339.0   \n",
       "2                48.16        0.12     41.47      0.73  clear-night  338.0   \n",
       "3                47.61        0.14     42.03      0.76  clear-night  336.1   \n",
       "4                47.24        0.15     42.24      0.79  clear-night  333.7   \n",
       "\n",
       "   precipIntensity  precipProbability precipType  pressure summary  \\\n",
       "0           0.0000               0.00        NaN    1018.6   Clear   \n",
       "1           0.0000               0.00        NaN    1018.7   Clear   \n",
       "2           0.0010               0.02       rain    1018.9   Clear   \n",
       "3           0.0003               0.01       rain    1019.0   Clear   \n",
       "4           0.0022               0.03       rain    1019.1   Clear   \n",
       "\n",
       "   temperature        time  uvIndex  visibility  windBearing  windGust  \\\n",
       "0        50.78  1582095600        0          10          307      5.51   \n",
       "1        49.93  1582099200        0          10          200      5.15   \n",
       "2        49.61  1582102800        0          10          238      5.69   \n",
       "3        49.13  1582106400        0          10          248      5.82   \n",
       "4        48.59  1582110000        0          10          250      5.45   \n",
       "\n",
       "   windSpeed  \n",
       "0       4.55  \n",
       "1       4.48  \n",
       "2       4.36  \n",
       "3       4.36  \n",
       "4       4.00  "
      ]
     },
     "execution_count": 5,
     "metadata": {},
     "output_type": "execute_result"
    }
   ],
   "source": [
    "weather_hourly_df = pd.DataFrame(weather_hourly)\n",
    "weather_hourly_df.head()"
   ]
  },
  {
   "cell_type": "code",
   "execution_count": 6,
   "metadata": {
    "colab": {},
    "colab_type": "code",
    "id": "jS0AISDhqF4-",
    "outputId": "ddf2aa62-bc9b-43dc-daa8-79b57bd3ba84"
   },
   "outputs": [
    {
     "data": {
      "image/png": "[encoded data removed]",
      "text/plain": [
       "<Figure size 720x360 with 1 Axes>"
      ]
     },
     "metadata": {
      "needs_background": "light"
     },
     "output_type": "display_data"
    },
    {
     "data": {
      "image/png": "[encoded data removed]",
      "text/plain": [
       "<Figure size 720x360 with 1 Axes>"
      ]
     },
     "metadata": {
      "needs_background": "light"
     },
     "output_type": "display_data"
    },
    {
     "data": {
      "image/png": "[encoded data removed]",
      "text/plain": [
       "<Figure size 720x360 with 1 Axes>"
      ]
     },
     "metadata": {
      "needs_background": "light"
     },
     "output_type": "display_data"
    },
    {
     "data": {
      "image/png": "[encoded data removed]",
      "text/plain": [
       "<Figure size 720x360 with 1 Axes>"
      ]
     },
     "metadata": {
      "needs_background": "light"
     },
     "output_type": "display_data"
    },
    {
     "data": {
      "image/png": "[encoded data removed]",
      "text/plain": [
       "<Figure size 720x360 with 1 Axes>"
      ]
     },
     "metadata": {
      "needs_background": "light"
     },
     "output_type": "display_data"
    }
   ],
   "source": [
    "def create_and_save_hist(df, column_name):\n",
    "    plt.figure(figsize=(10,5))\n",
    "    plt.title('Histogram of %s' % column_name) \n",
    "    plt.hist(df['%s' % column_name], bins=17, color='g')\n",
    "    plt.savefig('hists\\%s_hist' % column_name)\n",
    "    \n",
    "needed_columns = ['temperature', 'humidity', 'windSpeed', 'cloudCover', 'ozone']\n",
    "for column in needed_columns:\n",
    "    create_and_save_hist(weather_hourly_df, column)"
   ]
  },
  {
   "cell_type": "markdown",
   "metadata": {
    "colab_type": "text",
    "id": "vUNpYRIdqF5E"
   },
   "source": [
    "Для задания 2 вытащу столбец temperature"
   ]
  },
  {
   "cell_type": "code",
   "execution_count": 7,
   "metadata": {
    "colab": {},
    "colab_type": "code",
    "id": "HLjGqv1XqF5F"
   },
   "outputs": [],
   "source": [
    "temperature_column = weather_hourly_df.loc[:, 'temperature']"
   ]
  },
  {
   "cell_type": "code",
   "execution_count": 8,
   "metadata": {
    "colab": {},
    "colab_type": "code",
    "id": "2X29n4kHqF5J"
   },
   "outputs": [],
   "source": [
    "with open('files\\\\temperature.txt', 'w') as file:\n",
    "    for temp in temperature_column:\n",
    "        file.write(str(temp) + '\\n')"
   ]
  },
  {
   "cell_type": "code",
   "execution_count": 9,
   "metadata": {},
   "outputs": [],
   "source": [
    "path_to_passwords_json = \"files\\\\passwords.json\""
   ]
  },
  {
   "cell_type": "code",
   "execution_count": 10,
   "metadata": {},
   "outputs": [],
   "source": [
    "with open(path_to_passwords_json, 'r') as file:\n",
    "    passwords = json.load(file)"
   ]
  },
  {
   "cell_type": "code",
   "execution_count": 11,
   "metadata": {},
   "outputs": [],
   "source": [
    "with open(\"files\\\\passwords.txt\", \"w\") as file:\n",
    "    for password in passwords:\n",
    "        file.write(password + '\\n')"
   ]
  },
  {
   "cell_type": "code",
   "execution_count": 12,
   "metadata": {},
   "outputs": [],
   "source": [
    "with open(\"files\\\\pbkdf2_bits.txt\", \"r\") as file:\n",
    "    pbkdf2 = list(file.readlines())"
   ]
  },
  {
   "cell_type": "code",
   "execution_count": 13,
   "metadata": {},
   "outputs": [],
   "source": [
    "with open(\"files\\\\hkdf_bits.txt\", \"r\") as file:\n",
    "    hkdf = list(file.readlines())"
   ]
  },
  {
   "cell_type": "code",
   "execution_count": 14,
   "metadata": {},
   "outputs": [],
   "source": [
    "hkdf = [int(x) for x in hkdf]\n",
    "pbkdf2 = [int(x) for x in pbkdf2]"
   ]
  },
  {
   "cell_type": "code",
   "execution_count": 18,
   "metadata": {},
   "outputs": [
    {
     "data": {
      "image/png": "[encoded data removed]",
      "text/plain": [
       "<Figure size 720x360 with 1 Axes>"
      ]
     },
     "metadata": {
      "needs_background": "light"
     },
     "output_type": "display_data"
    },
    {
     "data": {
      "image/png": "[encoded data removed]",
      "text/plain": [
       "<Figure size 720x360 with 1 Axes>"
      ]
     },
     "metadata": {
      "needs_background": "light"
     },
     "output_type": "display_data"
    }
   ],
   "source": [
    "plt.figure(figsize=(10,5))\n",
    "plt.title('Histogram of HKDF bits') \n",
    "plt.hist(hkdf, bins=10, color='g')\n",
    "plt.savefig('hists\\HKDF_gist')\n",
    "\n",
    "plt.figure(figsize=(10,5))\n",
    "plt.title('Histogram of PBKDF2 bits') \n",
    "plt.hist(pbkdf2, bins=10, color='g')\n",
    "plt.savefig('hists\\PBKDF2_gist')"
   ]
  }
 ],
 "metadata": {
  "colab": {
   "name": "data_analysis.ipynb",
   "provenance": []
  },
  "kernelspec": {
   "display_name": "Python 3",
   "language": "python",
   "name": "python3"
  },
  "language_info": {
   "codemirror_mode": {
    "name": "ipython",
    "version": 3
   },
   "file_extension": ".py",
   "mimetype": "text/x-python",
   "name": "python",
   "nbconvert_exporter": "python",
   "pygments_lexer": "ipython3",
   "version": "3.7.3"
  }
 },
 "nbformat": 4,
 "nbformat_minor": 1
}
